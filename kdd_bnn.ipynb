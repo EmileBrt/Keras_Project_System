{
 "cells": [
  {
   "cell_type": "code",
   "execution_count": 1,
   "metadata": {
    "collapsed": true
   },
   "outputs": [
    {
     "name": "stderr",
     "output_type": "stream",
     "text": [
      "2022-11-08 18:04:59.770042: I tensorflow/core/platform/cpu_feature_guard.cc:193] This TensorFlow binary is optimized with oneAPI Deep Neural Network Library (oneDNN) to use the following CPU instructions in performance-critical operations:  AVX2 FMA\n",
      "To enable them in other operations, rebuild TensorFlow with the appropriate compiler flags.\n",
      "2022-11-08 18:04:59.968247: W tensorflow/stream_executor/platform/default/dso_loader.cc:64] Could not load dynamic library 'libcudart.so.11.0'; dlerror: libcudart.so.11.0: cannot open shared object file: No such file or directory\n",
      "2022-11-08 18:04:59.968267: I tensorflow/stream_executor/cuda/cudart_stub.cc:29] Ignore above cudart dlerror if you do not have a GPU set up on your machine.\n",
      "2022-11-08 18:05:00.009676: E tensorflow/stream_executor/cuda/cuda_blas.cc:2981] Unable to register cuBLAS factory: Attempting to register factory for plugin cuBLAS when one has already been registered\n",
      "2022-11-08 18:05:01.069981: W tensorflow/stream_executor/platform/default/dso_loader.cc:64] Could not load dynamic library 'libnvinfer.so.7'; dlerror: libnvinfer.so.7: cannot open shared object file: No such file or directory\n",
      "2022-11-08 18:05:01.070069: W tensorflow/stream_executor/platform/default/dso_loader.cc:64] Could not load dynamic library 'libnvinfer_plugin.so.7'; dlerror: libnvinfer_plugin.so.7: cannot open shared object file: No such file or directory\n",
      "2022-11-08 18:05:01.070079: W tensorflow/compiler/tf2tensorrt/utils/py_utils.cc:38] TF-TRT Warning: Cannot dlopen some TensorRT libraries. If you would like to use Nvidia GPU with TensorRT, please make sure the missing libraries mentioned above are installed properly.\n"
     ]
    }
   ],
   "source": [
    "from tensorflow import keras\n",
    "import pandas as pd\n",
    "import numpy as np\n",
    "from sklearn.model_selection import train_test_split"
   ]
  },
  {
   "cell_type": "markdown",
   "source": [
    "Changement des paramètres d'affichages"
   ],
   "metadata": {
    "collapsed": false
   }
  },
  {
   "cell_type": "code",
   "execution_count": 2,
   "outputs": [],
   "source": [
    "# Make numpy values easier to read.\n",
    "np.set_printoptions(precision=3, suppress=True,threshold=np.inf)\n",
    "pd.options.display.max_rows = 999"
   ],
   "metadata": {
    "collapsed": false
   }
  },
  {
   "cell_type": "markdown",
   "source": [
    "#### Traitement des données"
   ],
   "metadata": {
    "collapsed": false
   }
  },
  {
   "cell_type": "code",
   "execution_count": 3,
   "outputs": [],
   "source": [
    "df = pd.read_csv(\"kddcup99_csv.csv\")\n",
    "col2encode = [\"protocol_type\",\"service\",\"flag\"]\n",
    "ohe_col = pd.get_dummies(df[col2encode],columns=col2encode)\n",
    "df = df.drop(columns=col2encode)\n",
    "df_ohe = pd.concat([df,ohe_col],axis=1)\n",
    "attack_values = pd.unique(df_ohe[\"label\"].values.ravel())\n",
    "attack_values = attack_values[1:] ## Remove \"normal\" as it is not an attack\n",
    "### Create a dict to remap attack to True and normal to False\n",
    "d_attack = {\"normal\":False}\n",
    "for a in attack_values:\n",
    "    d_attack.update({a:True})\n",
    "label = df_ohe[\"label\"].map(d_attack)\n",
    "df_ohe = df_ohe.drop(columns=\"label\",axis=1)\n",
    "X_train, X_test, y_train, y_test = train_test_split(df_ohe, label, test_size=0.25, random_state=42)"
   ],
   "metadata": {
    "collapsed": false
   }
  },
  {
   "cell_type": "markdown",
   "source": [
    "#### Création du modèle"
   ],
   "metadata": {
    "collapsed": false
   }
  },
  {
   "cell_type": "code",
   "execution_count": 4,
   "outputs": [
    {
     "name": "stderr",
     "output_type": "stream",
     "text": [
      "2022-11-08 18:05:05.226881: W tensorflow/stream_executor/platform/default/dso_loader.cc:64] Could not load dynamic library 'libcuda.so.1'; dlerror: libcuda.so.1: cannot open shared object file: No such file or directory\n",
      "2022-11-08 18:05:05.226926: W tensorflow/stream_executor/cuda/cuda_driver.cc:263] failed call to cuInit: UNKNOWN ERROR (303)\n",
      "2022-11-08 18:05:05.226966: I tensorflow/stream_executor/cuda/cuda_diagnostics.cc:156] kernel driver does not appear to be running on this host (emile-HVY-WXX9): /proc/driver/nvidia/version does not exist\n",
      "2022-11-08 18:05:05.227588: I tensorflow/core/platform/cpu_feature_guard.cc:193] This TensorFlow binary is optimized with oneAPI Deep Neural Network Library (oneDNN) to use the following CPU instructions in performance-critical operations:  AVX2 FMA\n",
      "To enable them in other operations, rebuild TensorFlow with the appropriate compiler flags.\n"
     ]
    }
   ],
   "source": [
    "model = keras.Sequential(name=\"my_sequential\")\n",
    "model.add(keras.Input(shape=(118,)))\n",
    "model.add(keras.layers.Dense(64,use_bias=True))\n",
    "model.add(keras.layers.BatchNormalization())\n",
    "model.add(keras.layers.Dropout(0.5))\n",
    "model.add(keras.layers.ReLU())\n",
    "model.add(keras.layers.Dense(64,use_bias=True))\n",
    "model.add(keras.layers.BatchNormalization())\n",
    "model.add(keras.layers.Dropout(0.5))\n",
    "model.add(keras.layers.ReLU())\n",
    "model.add(keras.layers.Dense(64,use_bias=True))\n",
    "model.add(keras.layers.BatchNormalization())\n",
    "model.add(keras.layers.Dropout(0.5))\n",
    "model.add(keras.layers.ReLU())\n",
    "model.add(keras.layers.Dense(1,use_bias=True))\n",
    "\n",
    "model.compile(\n",
    "    optimizer=keras.optimizers.Adam(learning_rate=1e-3),\n",
    "    loss=keras.losses.BinaryCrossentropy(),\n",
    "    metrics =['accuracy']\n",
    ")"
   ],
   "metadata": {
    "collapsed": false
   }
  },
  {
   "cell_type": "markdown",
   "source": [
    "#### Entrainement"
   ],
   "metadata": {
    "collapsed": false
   }
  },
  {
   "cell_type": "code",
   "execution_count": 5,
   "outputs": [
    {
     "name": "stdout",
     "output_type": "stream",
     "text": [
      "Epoch 1/10\n"
     ]
    },
    {
     "name": "stderr",
     "output_type": "stream",
     "text": [
      "2022-11-08 18:05:05.618292: W tensorflow/core/framework/cpu_allocator_impl.cc:82] Allocation of 349766160 exceeds 10% of free system memory.\n"
     ]
    },
    {
     "name": "stdout",
     "output_type": "stream",
     "text": [
      "5790/5790 [==============================] - 22s 4ms/step - loss: 0.6749 - accuracy: 0.9095 - val_loss: 0.4341 - val_accuracy: 0.8267\n",
      "Epoch 2/10\n",
      "5790/5790 [==============================] - 21s 4ms/step - loss: 0.2888 - accuracy: 0.9578 - val_loss: 0.3734 - val_accuracy: 0.9738\n",
      "Epoch 3/10\n",
      "5790/5790 [==============================] - 22s 4ms/step - loss: 0.1986 - accuracy: 0.9714 - val_loss: 0.3054 - val_accuracy: 0.8413\n",
      "Epoch 4/10\n",
      "5790/5790 [==============================] - 21s 4ms/step - loss: 0.1742 - accuracy: 0.9769 - val_loss: 0.1308 - val_accuracy: 0.9552\n",
      "Epoch 5/10\n",
      "5790/5790 [==============================] - 21s 4ms/step - loss: 0.1359 - accuracy: 0.9799 - val_loss: 0.3995 - val_accuracy: 0.9685\n",
      "Epoch 6/10\n",
      "5790/5790 [==============================] - 21s 4ms/step - loss: 0.1137 - accuracy: 0.9794 - val_loss: 0.0728 - val_accuracy: 0.9853\n",
      "Epoch 7/10\n",
      "5790/5790 [==============================] - 21s 4ms/step - loss: 0.0984 - accuracy: 0.9821 - val_loss: 0.2544 - val_accuracy: 0.9524\n",
      "Epoch 8/10\n",
      "5790/5790 [==============================] - 21s 4ms/step - loss: 0.0908 - accuracy: 0.9835 - val_loss: 0.6701 - val_accuracy: 0.7451\n",
      "Epoch 9/10\n",
      "5790/5790 [==============================] - 21s 4ms/step - loss: 0.0869 - accuracy: 0.9838 - val_loss: 0.0726 - val_accuracy: 0.9862\n",
      "Epoch 10/10\n",
      "5790/5790 [==============================] - 21s 4ms/step - loss: 0.0819 - accuracy: 0.9850 - val_loss: 0.4605 - val_accuracy: 0.9204\n"
     ]
    },
    {
     "data": {
      "text/plain": "<keras.callbacks.History at 0x7fcc2b379480>"
     },
     "execution_count": 5,
     "metadata": {},
     "output_type": "execute_result"
    }
   ],
   "source": [
    "model.fit(X_train, y_train, batch_size=64, epochs=10,validation_data=(X_test,y_test))"
   ],
   "metadata": {
    "collapsed": false
   }
  },
  {
   "cell_type": "markdown",
   "source": [
    "#### Test"
   ],
   "metadata": {
    "collapsed": false
   }
  },
  {
   "cell_type": "code",
   "execution_count": 6,
   "outputs": [
    {
     "name": "stdout",
     "output_type": "stream",
     "text": [
      "Evaluate on test data\n",
      "3860/3860 [==============================] - 6s 1ms/step - loss: 0.4605 - accuracy: 0.9204\n",
      "test acc: [0.4605478048324585, 0.9203838109970093]\n"
     ]
    }
   ],
   "source": [
    "print(\"Evaluate on test data\")\n",
    "results = model.evaluate(X_test, y_test)\n",
    "print(\"test acc:\", results)"
   ],
   "metadata": {
    "collapsed": false
   }
  }
 ],
 "metadata": {
  "kernelspec": {
   "display_name": "Python 3",
   "language": "python",
   "name": "python3"
  },
  "language_info": {
   "codemirror_mode": {
    "name": "ipython",
    "version": 2
   },
   "file_extension": ".py",
   "mimetype": "text/x-python",
   "name": "python",
   "nbconvert_exporter": "python",
   "pygments_lexer": "ipython2",
   "version": "2.7.6"
  }
 },
 "nbformat": 4,
 "nbformat_minor": 0
}
