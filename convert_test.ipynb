{
 "cells": [
  {
   "cell_type": "code",
   "execution_count": null,
   "metadata": {
    "collapsed": true
   },
   "outputs": [],
   "source": [
    "import hls4ml\n",
    "from tensorflow import keras\n",
    "import plotting\n",
    "import os\n",
    "os.environ['PATH'] = '/opt/Xilinx/Vivado/2019.2/bin:' + os.environ['PATH']\n",
    "\n",
    "model = keras.models.load_model('fakemodel')\n",
    "config = hls4ml.utils.config_from_keras_model(model, granularity='fakemodel')\n",
    "print(\"-----------------------------------\")\n",
    "print(\"Configuration\")\n",
    "print(config)\n",
    "print(\"-----------------------------------\")\n",
    "\n",
    "hls_model = hls4ml.converters.convert_from_keras_model(model,\n",
    "                                                       hls_config=config,\n",
    "                                                       output_dir='fakemodel_export/hls4ml_prj',\n",
    "                                                       part=None)\n",
    "\n",
    "## hls4ml.utils.plot_model(hls_model, show_shapes=True, show_precision=True, to_file=None)\n",
    "hls_model.build(csim=False)\n",
    "hls4ml.report.read_vivado_report('fakemodel_export/hls4ml_prj/')"
   ]
  }
 ],
 "metadata": {
  "kernelspec": {
   "display_name": "Python 3",
   "language": "python",
   "name": "python3"
  },
  "language_info": {
   "codemirror_mode": {
    "name": "ipython",
    "version": 2
   },
   "file_extension": ".py",
   "mimetype": "text/x-python",
   "name": "python",
   "nbconvert_exporter": "python",
   "pygments_lexer": "ipython2",
   "version": "2.7.6"
  }
 },
 "nbformat": 4,
 "nbformat_minor": 0
}
