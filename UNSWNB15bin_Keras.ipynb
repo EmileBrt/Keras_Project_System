{
 "cells": [
  {
   "cell_type": "code",
   "execution_count": 8,
   "metadata": {
    "collapsed": true
   },
   "outputs": [],
   "source": [
    "from tensorflow import keras\n",
    "import pandas as pd\n",
    "import numpy as np\n",
    "from sklearn.model_selection import train_test_split"
   ]
  },
  {
   "cell_type": "markdown",
   "source": [
    "Changement des paramètres d'affichages"
   ],
   "metadata": {
    "collapsed": false
   }
  },
  {
   "cell_type": "code",
   "execution_count": 9,
   "outputs": [],
   "source": [
    "# Make numpy values easier to read.\n",
    "np.set_printoptions(precision=3, suppress=True,threshold=np.inf)\n",
    "pd.options.display.max_rows = 999"
   ],
   "metadata": {
    "collapsed": false
   }
  },
  {
   "cell_type": "markdown",
   "source": [
    "#### Traitement des données"
   ],
   "metadata": {
    "collapsed": false
   }
  },
  {
   "cell_type": "code",
   "execution_count": 10,
   "outputs": [
    {
     "name": "stdout",
     "output_type": "stream",
     "text": [
      "(175341, 594)\n",
      "(257673, 594)\n"
     ]
    }
   ],
   "source": [
    "unsw_nb15_data = np.load(\"/home/emile/PycharmProjects/Keras_Project_System/unsw_nb15_binarized.npz\")\n",
    "part_data_train = unsw_nb15_data[\"train\"]\n",
    "part_data_test = unsw_nb15_data[\"test\"]\n",
    "print(part_data_train.shape)\n",
    "data_all = np.concatenate((part_data_test,part_data_train),axis=0)\n",
    "\n",
    "X = data_all[:,:-1]\n",
    "Y = data_all[:,-1]\n",
    "\n",
    "print(data_all.shape)\n",
    "\n",
    "X_train, X_test, y_train, y_test = train_test_split(X,  Y, test_size=0.25, random_state=42)"
   ],
   "metadata": {
    "collapsed": false
   }
  },
  {
   "cell_type": "markdown",
   "source": [
    "#### Création du modèle"
   ],
   "metadata": {
    "collapsed": false
   }
  },
  {
   "cell_type": "code",
   "execution_count": 11,
   "outputs": [],
   "source": [
    "model = keras.Sequential(name=\"my_sequential\")\n",
    "model.add(keras.Input(shape=(593,)))\n",
    "model.add(keras.layers.Dense(64,use_bias=True))\n",
    "model.add(keras.layers.BatchNormalization())\n",
    "model.add(keras.layers.Dropout(0.5))\n",
    "model.add(keras.layers.ReLU())\n",
    "model.add(keras.layers.Dense(64,use_bias=True))\n",
    "model.add(keras.layers.BatchNormalization())\n",
    "model.add(keras.layers.Dropout(0.5))\n",
    "model.add(keras.layers.ReLU())\n",
    "model.add(keras.layers.Dense(64,use_bias=True))\n",
    "model.add(keras.layers.BatchNormalization())\n",
    "model.add(keras.layers.Dropout(0.5))\n",
    "model.add(keras.layers.ReLU())\n",
    "model.add(keras.layers.Dense(1,use_bias=True))\n",
    "\n",
    "model.compile(\n",
    "    optimizer=keras.optimizers.Adam(learning_rate=1e-3),\n",
    "    loss=keras.losses.BinaryCrossentropy(),\n",
    "    metrics =['accuracy']\n",
    ")"
   ],
   "metadata": {
    "collapsed": false
   }
  },
  {
   "cell_type": "markdown",
   "source": [
    "#### Entrainement"
   ],
   "metadata": {
    "collapsed": false
   }
  },
  {
   "cell_type": "code",
   "execution_count": 12,
   "outputs": [
    {
     "name": "stdout",
     "output_type": "stream",
     "text": [
      "Epoch 1/10\n",
      "3020/3020 [==============================] - 14s 4ms/step - loss: 1.9595 - accuracy: 0.7984 - val_loss: 0.6452 - val_accuracy: 0.8570\n",
      "Epoch 2/10\n",
      "3020/3020 [==============================] - 13s 4ms/step - loss: 1.3645 - accuracy: 0.8151 - val_loss: 0.5235 - val_accuracy: 0.8663\n",
      "Epoch 3/10\n",
      "3020/3020 [==============================] - 12s 4ms/step - loss: 0.6754 - accuracy: 0.8346 - val_loss: 0.4399 - val_accuracy: 0.8066\n",
      "Epoch 4/10\n",
      "3020/3020 [==============================] - 12s 4ms/step - loss: 0.4874 - accuracy: 0.8194 - val_loss: 0.2384 - val_accuracy: 0.8766\n",
      "Epoch 5/10\n",
      "3020/3020 [==============================] - 13s 4ms/step - loss: 0.3162 - accuracy: 0.8539 - val_loss: 0.1932 - val_accuracy: 0.8990\n",
      "Epoch 6/10\n",
      "3020/3020 [==============================] - 13s 4ms/step - loss: 0.2786 - accuracy: 0.8730 - val_loss: 0.1937 - val_accuracy: 0.9126\n",
      "Epoch 7/10\n",
      "3020/3020 [==============================] - 13s 4ms/step - loss: 0.2732 - accuracy: 0.8704 - val_loss: 0.1908 - val_accuracy: 0.8999\n",
      "Epoch 8/10\n",
      "3020/3020 [==============================] - 13s 4ms/step - loss: 0.2576 - accuracy: 0.8807 - val_loss: 0.2028 - val_accuracy: 0.8991\n",
      "Epoch 9/10\n",
      "3020/3020 [==============================] - 13s 4ms/step - loss: 0.2463 - accuracy: 0.8849 - val_loss: 0.1923 - val_accuracy: 0.9114\n",
      "Epoch 10/10\n",
      "3020/3020 [==============================] - 13s 4ms/step - loss: 0.2280 - accuracy: 0.9009 - val_loss: 0.1694 - val_accuracy: 0.9207\n"
     ]
    },
    {
     "data": {
      "text/plain": "<keras.callbacks.History at 0x7f43c0190ac0>"
     },
     "execution_count": 12,
     "metadata": {},
     "output_type": "execute_result"
    }
   ],
   "source": [
    "model.fit(X_train, y_train, batch_size=64, epochs=10,validation_data=(X_test,y_test))"
   ],
   "metadata": {
    "collapsed": false
   }
  },
  {
   "cell_type": "markdown",
   "source": [
    "#### Test"
   ],
   "metadata": {
    "collapsed": false
   }
  },
  {
   "cell_type": "code",
   "execution_count": 13,
   "outputs": [
    {
     "name": "stdout",
     "output_type": "stream",
     "text": [
      "Evaluate on test data\n",
      "2014/2014 [==============================] - 3s 2ms/step - loss: 0.1694 - accuracy: 0.9207\n",
      "test acc: [0.16942277550697327, 0.9207221269607544]\n"
     ]
    }
   ],
   "source": [
    "print(\"Evaluate on test data\")\n",
    "results = model.evaluate(X_test, y_test)\n",
    "print(\"test acc:\", results)"
   ],
   "metadata": {
    "collapsed": false
   }
  }
 ],
 "metadata": {
  "kernelspec": {
   "display_name": "Python 3",
   "language": "python",
   "name": "python3"
  },
  "language_info": {
   "codemirror_mode": {
    "name": "ipython",
    "version": 2
   },
   "file_extension": ".py",
   "mimetype": "text/x-python",
   "name": "python",
   "nbconvert_exporter": "python",
   "pygments_lexer": "ipython2",
   "version": "2.7.6"
  }
 },
 "nbformat": 4,
 "nbformat_minor": 0
}
